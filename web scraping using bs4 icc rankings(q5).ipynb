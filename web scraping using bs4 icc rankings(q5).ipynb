{
 "cells": [
  {
   "cell_type": "code",
   "execution_count": 1,
   "id": "c480d898",
   "metadata": {},
   "outputs": [
    {
     "name": "stdout",
     "output_type": "stream",
     "text": [
      "Requirement already satisfied: bs4 in c:\\users\\shreyasi  saha\\anaconda3\\lib\\site-packages (0.0.1)\n",
      "Requirement already satisfied: beautifulsoup4 in c:\\users\\shreyasi  saha\\anaconda3\\lib\\site-packages (from bs4) (4.10.0)\n",
      "Requirement already satisfied: soupsieve>1.2 in c:\\users\\shreyasi  saha\\anaconda3\\lib\\site-packages (from beautifulsoup4->bs4) (2.2.1)\n",
      "Requirement already satisfied: requests in c:\\users\\shreyasi  saha\\anaconda3\\lib\\site-packages (2.26.0)\n",
      "Requirement already satisfied: charset-normalizer~=2.0.0 in c:\\users\\shreyasi  saha\\anaconda3\\lib\\site-packages (from requests) (2.0.4)\n",
      "Requirement already satisfied: urllib3<1.27,>=1.21.1 in c:\\users\\shreyasi  saha\\anaconda3\\lib\\site-packages (from requests) (1.26.7)\n",
      "Requirement already satisfied: certifi>=2017.4.17 in c:\\users\\shreyasi  saha\\anaconda3\\lib\\site-packages (from requests) (2021.10.8)\n",
      "Requirement already satisfied: idna<4,>=2.5 in c:\\users\\shreyasi  saha\\anaconda3\\lib\\site-packages (from requests) (3.2)\n"
     ]
    }
   ],
   "source": [
    "!pip install bs4\n",
    "!pip install requests"
   ]
  },
  {
   "cell_type": "code",
   "execution_count": 2,
   "id": "674d6963",
   "metadata": {},
   "outputs": [],
   "source": [
    "import requests\n",
    "from bs4 import BeautifulSoup\n",
    "from urllib.request import urlopen\n",
    "import pandas as pd"
   ]
  },
  {
   "cell_type": "markdown",
   "id": "83439db3",
   "metadata": {},
   "source": [
    "# Q5 Write a python program to scrape cricket rankings from \n",
    "www.icc-cricket.com"
   ]
  },
  {
   "cell_type": "code",
   "execution_count": 3,
   "id": "bd678b87",
   "metadata": {},
   "outputs": [
    {
     "data": {
      "text/plain": [
       "<Response [200]>"
      ]
     },
     "execution_count": 3,
     "metadata": {},
     "output_type": "execute_result"
    }
   ],
   "source": [
    "url=requests.get('https://www.icc-cricket.com/rankings/mens/player-rankings/odi')\n",
    "url"
   ]
  },
  {
   "cell_type": "code",
   "execution_count": 4,
   "id": "9462ba6a",
   "metadata": {},
   "outputs": [],
   "source": [
    "soup=BeautifulSoup(url.content)"
   ]
  },
  {
   "cell_type": "code",
   "execution_count": 5,
   "id": "d4098e2c",
   "metadata": {},
   "outputs": [
    {
     "data": {
      "text/plain": [
       "['odi ODI Batting Rankings     Share                 URL Copied                                           1                                (0)     Babar Azam   PAK                             890              Pos Player Team Rating                                            2                                    (0)     Rassie van der Dussen    SA  789                                          3                                    (0)     Quinton de Kock    SA  784                                          4                                    (0)     Imam-ul-Haq    PAK  779                                          5                                    (0)     Virat Kohli    IND  744                                          6                                    (0)     Rohit Sharma    IND  740                                          7                                    (0)     Jonny Bairstow    ENG  732                                          8                                    (0)     David Warner    AUS  725                                          9                                    (0)     Ross Taylor    NZ  701                                          10                                       This player has moved up in the rankings since the previous rankings update     Steve Smith    AUS  697     Full Table',\n",
       " 'odi ODI Bowling Rankings     Share                 URL Copied                                           1                                (0)     Trent Boult   NZ                             775              Pos Player Team Rating                                            2                                    (0)     Josh Hazlewood    AUS  718                                          3                                    (0)     Mujeeb Ur Rahman    AFG  676                                          4                                    (0)     Jasprit Bumrah    IND  662                                          5                                    (0)     Shaheen Afridi    PAK  661                                          6                                      (2) This player has moved up in the rankings since the previous rankings update     Mohammad Nabi    AFG  657                                          7                                      (2) This player has moved up in the rankings since the previous rankings update     Mehedi Hasan    BAN  655                                          8                                      (2) This player has moved down in the rankings since the previous rankings update     Matt Henry    NZ  654                                          9                                      (2) This player has moved down in the rankings since the previous rankings update     Mitchell Starc    AUS  653                                          10                                    (0)     Rashid Khan    AFG  651     Full Table',\n",
       " 'odi ODI All-Rounder Rankings     Share                 URL Copied                                           1                                (0)     Shakib Al Hasan   BAN                             372              Pos Player Team Rating                                            2                                    (0)     Mohammad Nabi    AFG  325                                          3                                    (0)     Rashid Khan    AFG  290                                          4                                    (0)     Mitchell Santner    NZ  275                                          5                                    (0)     Sikandar Raza    ZIM  261                                          6                                    (0)     Zeeshan Maqsood    OMA  238                                          7                                    (0)     Mehedi Hasan    BAN  238                                          8                                    (0)     Chris Woakes    ENG  235                                          9                                    (0)     Glenn Maxwell    AUS  227                                          10                                    (0)     Imad Wasim    PAK  220     Full Table',\n",
       " 'odi All-Time Batting Rankings     Share                 URL Copied                                           1                                (0)     Babar Azam   PAK                             890              Pos Player Team Rating                                            2                                    (0)     Rassie van der Dussen    SA  789                                          3                                    (0)     Quinton de Kock    SA  784                                          4                                    (0)     Imam-ul-Haq    PAK  779                                          5                                    (0)     Virat Kohli    IND  744                                          6                                    (0)     Rohit Sharma    IND  740                                          7                                    (0)     Jonny Bairstow    ENG  732                                          8                                    (0)     David Warner    AUS  725                                          9                                    (0)     Ross Taylor    NZ  701                                          10                                       This player has moved up in the rankings since the previous rankings update     Steve Smith    AUS  697     View Full Table',\n",
       " 'odi All-Time Bowling Rankings     Share                 URL Copied                                           1                                (0)     Trent Boult   NZ                             775              Pos Player Team Rating                                            2                                    (0)     Josh Hazlewood    AUS  718                                          3                                    (0)     Mujeeb Ur Rahman    AFG  676                                          4                                    (0)     Jasprit Bumrah    IND  662                                          5                                    (0)     Shaheen Afridi    PAK  661                                          6                                      (2) This player has moved up in the rankings since the previous rankings update     Mohammad Nabi    AFG  657                                          7                                      (2) This player has moved up in the rankings since the previous rankings update     Mehedi Hasan    BAN  655                                          8                                      (2) This player has moved down in the rankings since the previous rankings update     Matt Henry    NZ  654                                          9                                      (2) This player has moved down in the rankings since the previous rankings update     Mitchell Starc    AUS  653                                          10                                    (0)     Rashid Khan    AFG  651     View Full Table',\n",
       " 'odi All-Time All-Rounder Rankings     Share                 URL Copied                                           1                                (0)     Shakib Al Hasan   BAN                             372              Pos Player Team Rating                                            2                                    (0)     Mohammad Nabi    AFG  325                                          3                                    (0)     Rashid Khan    AFG  290                                          4                                    (0)     Mitchell Santner    NZ  275                                          5                                    (0)     Sikandar Raza    ZIM  261                                          6                                    (0)     Zeeshan Maqsood    OMA  238                                          7                                    (0)     Mehedi Hasan    BAN  238                                          8                                    (0)     Chris Woakes    ENG  235                                          9                                    (0)     Glenn Maxwell    AUS  227                                          10                                    (0)     Imad Wasim    PAK  220     View Full Table']"
      ]
     },
     "execution_count": 5,
     "metadata": {},
     "output_type": "execute_result"
    }
   ],
   "source": [
    "Batsman = []\n",
    "\n",
    "for i in soup.find_all('div',class_=\"rankings-block__container\"):\n",
    "    Batsman.append(i.get_text().replace(\"\\n\",\" \").strip(\" \"))\n",
    "\n",
    "Batsman"
   ]
  },
  {
   "cell_type": "code",
   "execution_count": 6,
   "id": "c6ae69e5",
   "metadata": {},
   "outputs": [
    {
     "ename": "TypeError",
     "evalue": "'NoneType' object is not iterable",
     "output_type": "error",
     "traceback": [
      "\u001b[1;31m---------------------------------------------------------------------------\u001b[0m",
      "\u001b[1;31mTypeError\u001b[0m                                 Traceback (most recent call last)",
      "\u001b[1;32mC:\\Users\\SHREYA~1\\AppData\\Local\\Temp/ipykernel_7972/1451255009.py\u001b[0m in \u001b[0;36m<module>\u001b[1;34m\u001b[0m\n\u001b[0;32m      1\u001b[0m \u001b[0mBowler\u001b[0m \u001b[1;33m=\u001b[0m \u001b[1;33m[\u001b[0m\u001b[1;33m]\u001b[0m\u001b[1;33m\u001b[0m\u001b[1;33m\u001b[0m\u001b[0m\n\u001b[0;32m      2\u001b[0m \u001b[1;33m\u001b[0m\u001b[0m\n\u001b[1;32m----> 3\u001b[1;33m \u001b[1;32mfor\u001b[0m \u001b[0mi\u001b[0m \u001b[1;32min\u001b[0m \u001b[0msoup\u001b[0m\u001b[1;33m.\u001b[0m\u001b[0mfind\u001b[0m\u001b[1;33m(\u001b[0m\u001b[1;34m'div'\u001b[0m\u001b[1;33m,\u001b[0m\u001b[0mtitle_\u001b[0m\u001b[1;33m=\u001b[0m\u001b[1;34m\"ODI Bowling Rankings\"\u001b[0m\u001b[1;33m)\u001b[0m\u001b[1;33m:\u001b[0m\u001b[1;33m\u001b[0m\u001b[1;33m\u001b[0m\u001b[0m\n\u001b[0m\u001b[0;32m      4\u001b[0m     \u001b[0mBowler\u001b[0m\u001b[1;33m.\u001b[0m\u001b[0mappend\u001b[0m\u001b[1;33m(\u001b[0m\u001b[0mi\u001b[0m\u001b[1;33m.\u001b[0m\u001b[0mget_text\u001b[0m\u001b[1;33m(\u001b[0m\u001b[1;33m)\u001b[0m\u001b[1;33m.\u001b[0m\u001b[0mreplace\u001b[0m\u001b[1;33m(\u001b[0m\u001b[1;34m\"\\n\"\u001b[0m\u001b[1;33m,\u001b[0m\u001b[1;34m\" \"\u001b[0m\u001b[1;33m)\u001b[0m\u001b[1;33m.\u001b[0m\u001b[0mstrip\u001b[0m\u001b[1;33m(\u001b[0m\u001b[1;34m\" \"\u001b[0m\u001b[1;33m)\u001b[0m\u001b[1;33m)\u001b[0m\u001b[1;33m\u001b[0m\u001b[1;33m\u001b[0m\u001b[0m\n\u001b[0;32m      5\u001b[0m \u001b[1;33m\u001b[0m\u001b[0m\n",
      "\u001b[1;31mTypeError\u001b[0m: 'NoneType' object is not iterable"
     ]
    }
   ],
   "source": [
    "Bowler = []\n",
    "\n",
    "for i in soup.find('div',title_=\"ODI Bowling Rankings\"):\n",
    "    Bowler.append(i.get_text().replace(\"\\n\",\" \").strip(\" \"))\n",
    "\n",
    "Bowler"
   ]
  },
  {
   "cell_type": "code",
   "execution_count": null,
   "id": "56f6d869",
   "metadata": {},
   "outputs": [],
   "source": []
  },
  {
   "cell_type": "code",
   "execution_count": null,
   "id": "eef73d59",
   "metadata": {},
   "outputs": [],
   "source": []
  },
  {
   "cell_type": "code",
   "execution_count": null,
   "id": "52721fe7",
   "metadata": {},
   "outputs": [],
   "source": []
  },
  {
   "cell_type": "code",
   "execution_count": null,
   "id": "9aa290bd",
   "metadata": {},
   "outputs": [],
   "source": []
  },
  {
   "cell_type": "code",
   "execution_count": null,
   "id": "eb27d105",
   "metadata": {},
   "outputs": [],
   "source": []
  },
  {
   "cell_type": "code",
   "execution_count": null,
   "id": "441946d9",
   "metadata": {},
   "outputs": [],
   "source": []
  },
  {
   "cell_type": "code",
   "execution_count": null,
   "id": "63936bb6",
   "metadata": {},
   "outputs": [],
   "source": []
  },
  {
   "cell_type": "code",
   "execution_count": null,
   "id": "02920180",
   "metadata": {},
   "outputs": [],
   "source": []
  },
  {
   "cell_type": "code",
   "execution_count": null,
   "id": "bf16d8bb",
   "metadata": {},
   "outputs": [],
   "source": []
  },
  {
   "cell_type": "code",
   "execution_count": null,
   "id": "1fe72ec4",
   "metadata": {},
   "outputs": [],
   "source": []
  },
  {
   "cell_type": "code",
   "execution_count": null,
   "id": "a2e1cefd",
   "metadata": {},
   "outputs": [],
   "source": []
  },
  {
   "cell_type": "code",
   "execution_count": null,
   "id": "38251b70",
   "metadata": {},
   "outputs": [],
   "source": []
  },
  {
   "cell_type": "code",
   "execution_count": null,
   "id": "98add76c",
   "metadata": {},
   "outputs": [],
   "source": []
  },
  {
   "cell_type": "code",
   "execution_count": null,
   "id": "15f62f7b",
   "metadata": {},
   "outputs": [],
   "source": []
  },
  {
   "cell_type": "code",
   "execution_count": null,
   "id": "375e2448",
   "metadata": {},
   "outputs": [],
   "source": []
  },
  {
   "cell_type": "code",
   "execution_count": null,
   "id": "ca66e966",
   "metadata": {},
   "outputs": [],
   "source": []
  },
  {
   "cell_type": "code",
   "execution_count": null,
   "id": "1a97884e",
   "metadata": {},
   "outputs": [],
   "source": []
  },
  {
   "cell_type": "code",
   "execution_count": null,
   "id": "99073c1c",
   "metadata": {},
   "outputs": [],
   "source": []
  },
  {
   "cell_type": "code",
   "execution_count": null,
   "id": "97e6dd69",
   "metadata": {},
   "outputs": [],
   "source": []
  }
 ],
 "metadata": {
  "kernelspec": {
   "display_name": "Python 3 (ipykernel)",
   "language": "python",
   "name": "python3"
  },
  "language_info": {
   "codemirror_mode": {
    "name": "ipython",
    "version": 3
   },
   "file_extension": ".py",
   "mimetype": "text/x-python",
   "name": "python",
   "nbconvert_exporter": "python",
   "pygments_lexer": "ipython3",
   "version": "3.9.7"
  }
 },
 "nbformat": 4,
 "nbformat_minor": 5
}
