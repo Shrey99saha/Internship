{
 "cells": [
  {
   "cell_type": "code",
   "execution_count": null,
   "id": "908d134c",
   "metadata": {},
   "outputs": [],
   "source": [
    "!pip install selenium"
   ]
  },
  {
   "cell_type": "code",
   "execution_count": null,
   "id": "bc9d48a9",
   "metadata": {},
   "outputs": [],
   "source": [
    "import selenium\n",
    "import pandas as pd\n",
    "from selenium import webdriver\n",
    "import warnings\n",
    "warnings.filterwarnings(\"ignore\")\n",
    "from selenium.common.exceptions import StaleElementReferenceException, NoSuchElementException\n",
    "from selenium.webdriver.common.by import By\n",
    "import time"
   ]
  },
  {
   "cell_type": "code",
   "execution_count": null,
   "id": "3f1e0336",
   "metadata": {},
   "outputs": [],
   "source": [
    "#let first connect to the driver\n",
    "driver=webdriver.Chrome(r\"C:\\Users\\Shreyasi  Saha\\chromedriver_win32\\chromedriver.exe\")"
   ]
  },
  {
   "cell_type": "markdown",
   "id": "0fc46f8b",
   "metadata": {},
   "source": [
    "# Q1."
   ]
  },
  {
   "cell_type": "code",
   "execution_count": null,
   "id": "9c5a6063",
   "metadata": {},
   "outputs": [],
   "source": [
    "#let first connect to the driver\n",
    "driver=webdriver.Chrome(r\"C:\\Users\\Shreyasi  Saha\\chromedriver_win32\\chromedriver.exe\")"
   ]
  },
  {
   "cell_type": "code",
   "execution_count": null,
   "id": "4e5b8484",
   "metadata": {},
   "outputs": [],
   "source": [
    "#opening the website on automated browser page\n",
    "driver.get(\"https://www.naukri.com\")"
   ]
  },
  {
   "cell_type": "code",
   "execution_count": null,
   "id": "a2bda17f",
   "metadata": {},
   "outputs": [],
   "source": [
    "#entering designation\n",
    "designation=driver.find_element(By.CLASS_NAME,\"suggestor-input\")\n",
    "designation.send_keys('Data Analyst')"
   ]
  },
  {
   "cell_type": "code",
   "execution_count": null,
   "id": "d7aefd0f",
   "metadata": {},
   "outputs": [],
   "source": [
    "#entering location\n",
    "location=driver.find_element(By.XPATH,\"/html/body/div[1]/div[6]/div/div/div[5]/div/div/div/input\")\n",
    "location.send_keys('Bangalore')"
   ]
  },
  {
   "cell_type": "code",
   "execution_count": null,
   "id": "050e6c30",
   "metadata": {},
   "outputs": [],
   "source": [
    "#search for the required\n",
    "search=driver.find_element(By.CLASS_NAME,\"qsbSubmit\")\n",
    "search.click()"
   ]
  },
  {
   "cell_type": "code",
   "execution_count": null,
   "id": "3204cf14",
   "metadata": {},
   "outputs": [],
   "source": [
    "job_title=[]\n",
    "job_location=[]\n",
    "company_name=[]\n",
    "experiance_required=[]"
   ]
  },
  {
   "cell_type": "code",
   "execution_count": null,
   "id": "e02bb1f0",
   "metadata": {},
   "outputs": [],
   "source": [
    "#scraping job titles from given page\n",
    "title_tags=driver.find_elements(By.XPATH,'//a[@class=\"title fw500 ellipsis\"]')\n",
    "for i in title_tags[0:10]:\n",
    "    title=i.text\n",
    "    job_title.append(title)\n",
    "\n",
    "#scraping job locations from given page\n",
    "location_tags=driver.find_elements(By.XPATH,'//li[@class=\"fleft grey-text br2 placeHolderLi location\"]')\n",
    "for i in location_tags[0:10]:\n",
    "    location=i.text\n",
    "    job_location.append(location)\n",
    "\n",
    "#scraping company Names from given page\n",
    "company_tags=driver.find_elements(By.XPATH,'//a[@class=\"subTitle ellipsis fleft\"]')\n",
    "for i in company_tags[0:10]:\n",
    "    company=i.text\n",
    "    company_name.append(company)\n",
    "\n",
    "#scraping experiance from given page\n",
    "experiance_tags=driver.find_elements(By.XPATH,'//li[@class=\"fleft grey-text br2 placeHolderLi experience\"]//span')\n",
    "for i in experiance_tags[0:10]:\n",
    "    experiance=i.text\n",
    "    experiance_required.append(experiance)"
   ]
  },
  {
   "cell_type": "code",
   "execution_count": null,
   "id": "d754b6e7",
   "metadata": {},
   "outputs": [],
   "source": [
    "print(len(job_title),len( job_location),len(company_name),len(experiance_required))"
   ]
  },
  {
   "cell_type": "code",
   "execution_count": null,
   "id": "ce516e6b",
   "metadata": {},
   "outputs": [],
   "source": [
    "#creating Dataframe\n",
    "df=pd.DataFrame({'job_title':job_title,'job_location':job_location,'company_name':company_name,'experiance_required':experiance_required})\n",
    "df"
   ]
  },
  {
   "cell_type": "markdown",
   "id": "b589503f",
   "metadata": {},
   "source": [
    "# Q2."
   ]
  },
  {
   "cell_type": "code",
   "execution_count": null,
   "id": "b14ecd06",
   "metadata": {},
   "outputs": [],
   "source": [
    "#let first connect to the driver\n",
    "driver=webdriver.Chrome(r\"C:\\Users\\Shreyasi  Saha\\chromedriver_win32\\chromedriver.exe\")"
   ]
  },
  {
   "cell_type": "code",
   "execution_count": null,
   "id": "6c34f2e5",
   "metadata": {},
   "outputs": [],
   "source": [
    "#opening the website on automated browser page\n",
    "driver.get(\"https://www.naukri.com\")"
   ]
  },
  {
   "cell_type": "code",
   "execution_count": null,
   "id": "defff0db",
   "metadata": {},
   "outputs": [],
   "source": [
    "#entering designation\n",
    "designation=driver.find_element(By.CLASS_NAME,\"suggestor-input\")\n",
    "designation.send_keys('Data Scientist')"
   ]
  },
  {
   "cell_type": "code",
   "execution_count": null,
   "id": "bb68ba2e",
   "metadata": {},
   "outputs": [],
   "source": [
    "#entering location\n",
    "location=driver.find_element(By.XPATH,\"/html/body/div[1]/div[6]/div/div/div[5]/div/div/div/input\")\n",
    "location.send_keys('Bangalore')"
   ]
  },
  {
   "cell_type": "code",
   "execution_count": null,
   "id": "81f73aa3",
   "metadata": {},
   "outputs": [],
   "source": [
    "#search for the required\n",
    "search=driver.find_element(By.CLASS_NAME,\"qsbSubmit\")\n",
    "search.click()"
   ]
  },
  {
   "cell_type": "code",
   "execution_count": null,
   "id": "f50bdf8d",
   "metadata": {},
   "outputs": [],
   "source": [
    "job_title=[]\n",
    "job_location=[]\n",
    "company_name=[]\n",
    "experiance_required=[]"
   ]
  },
  {
   "cell_type": "code",
   "execution_count": null,
   "id": "b5729fb8",
   "metadata": {},
   "outputs": [],
   "source": [
    "#scraping job titles from given page\n",
    "title_tags=driver.find_elements(By.XPATH,'//a[@class=\"title fw500 ellipsis\"]')\n",
    "for i in title_tags[0:10]:\n",
    "    title=i.text\n",
    "    job_title.append(title)\n",
    "\n",
    "#scraping job locations from given page\n",
    "location_tags=driver.find_elements(By.XPATH,'//li[@class=\"fleft grey-text br2 placeHolderLi location\"]')\n",
    "for i in location_tags[0:10]:\n",
    "    location=i.text\n",
    "    job_location.append(location)\n",
    "\n",
    "#scraping company Names from given page\n",
    "company_tags=driver.find_elements(By.XPATH,'//a[@class=\"subTitle ellipsis fleft\"]')\n",
    "for i in company_tags[0:10]:\n",
    "    company=i.text\n",
    "    company_name.append(company)\n",
    "\n",
    "#scraping experiance from given page\n",
    "experiance_tags=driver.find_elements(By.XPATH,'//li[@class=\"fleft grey-text br2 placeHolderLi experience\"]//span')\n",
    "for i in experiance_tags[0:10]:\n",
    "    experiance=i.text\n",
    "    experiance_required.append(experiance)"
   ]
  },
  {
   "cell_type": "code",
   "execution_count": null,
   "id": "804866be",
   "metadata": {},
   "outputs": [],
   "source": [
    "print(len(job_title),len( job_location),len(company_name),len(experiance_required))"
   ]
  },
  {
   "cell_type": "code",
   "execution_count": null,
   "id": "e199fd9a",
   "metadata": {},
   "outputs": [],
   "source": [
    "#creating Dataframe\n",
    "df=pd.DataFrame({'job_title':job_title,'job_location':job_location,'company_name':company_name,'experiance_required':experiance_required})\n",
    "df"
   ]
  },
  {
   "cell_type": "markdown",
   "id": "0538ecd5",
   "metadata": {},
   "source": [
    "# Q3."
   ]
  },
  {
   "cell_type": "code",
   "execution_count": null,
   "id": "df06ebcc",
   "metadata": {},
   "outputs": [],
   "source": [
    "#let first connect to the driver\n",
    "driver=webdriver.Chrome(r\"C:\\Users\\Shreyasi  Saha\\chromedriver_win32\\chromedriver.exe\")"
   ]
  },
  {
   "cell_type": "code",
   "execution_count": null,
   "id": "f3bb3629",
   "metadata": {},
   "outputs": [],
   "source": [
    "#opening the website on automated browser page\n",
    "driver.get(\"https://www.naukri.com\")"
   ]
  },
  {
   "cell_type": "code",
   "execution_count": null,
   "id": "82f68842",
   "metadata": {},
   "outputs": [],
   "source": [
    "#entering designation\n",
    "designation=driver.find_element(By.CLASS_NAME,\"suggestor-input\")\n",
    "designation.send_keys('Data Scientist')"
   ]
  },
  {
   "cell_type": "code",
   "execution_count": null,
   "id": "0347777c",
   "metadata": {},
   "outputs": [],
   "source": [
    "#search for the required\n",
    "search=driver.find_element(By.CLASS_NAME,\"qsbSubmit\")\n",
    "search.click()"
   ]
  },
  {
   "cell_type": "code",
   "execution_count": null,
   "id": "55dc7db4",
   "metadata": {},
   "outputs": [],
   "source": [
    "#entering location\n",
    "location=driver.find_element(By.XPATH,\"/html/body/div[1]/div[4]/div/section[1]/div[2]/div[5]/div[2]/div[3]/label/p/span[1]\")\n",
    "location.click()"
   ]
  },
  {
   "cell_type": "code",
   "execution_count": null,
   "id": "5ffcd023",
   "metadata": {
    "scrolled": true
   },
   "outputs": [],
   "source": [
    "salary=driver.find_element(By.XPATH,\"/html/body/div[1]/div[4]/div/section[1]/div[2]/div[6]/div[2]/div[2]/label/p/span[1]\")\n",
    "salary.click()"
   ]
  },
  {
   "cell_type": "code",
   "execution_count": null,
   "id": "8fa178d1",
   "metadata": {},
   "outputs": [],
   "source": [
    "job_title=[]\n",
    "job_location=[]\n",
    "company_name=[]\n",
    "salary_filter=[]"
   ]
  },
  {
   "cell_type": "code",
   "execution_count": null,
   "id": "dfb2aa8c",
   "metadata": {},
   "outputs": [],
   "source": [
    "#scraping job titles from given page\n",
    "title_tags=driver.find_elements(By.XPATH,'//a[@class=\"title fw500 ellipsis\"]')\n",
    "for i in title_tags[0:10]:\n",
    "    title=i.text\n",
    "    job_title.append(title)\n",
    "    \n",
    "#scraping job locations from given page\n",
    "location_tags=driver.find_elements(By.XPATH,'//i[@class=\"fleft icon-16 lh16 mr-4 naukicon naukicon-location\"]')\n",
    "for i in location_tags[0:10]:\n",
    "    location=i.text\n",
    "    job_location.append(location)\n",
    "\n",
    "#scraping company Names from given page\n",
    "company_tags=driver.find_elements(By.XPATH,'//a[@class=\"subTitle ellipsis fleft\"]')\n",
    "for i in company_tags[0:10]:\n",
    "    company=i.text\n",
    "    company_name.append(company)\n",
    "\n",
    "#scraping experiance from given page\n",
    "salary_tags=driver.find_elements(By.XPATH,'//span[@class=\"ellipsis fleft fs12 lh16 \"]')\n",
    "for i in salary_tags[0:10]:\n",
    "    salary=i.text\n",
    "    salary_filter.append(salary)"
   ]
  },
  {
   "cell_type": "code",
   "execution_count": null,
   "id": "e01a08cd",
   "metadata": {},
   "outputs": [],
   "source": [
    "print(len(job_title),len( job_location),len(company_name),len(salary_filter))"
   ]
  },
  {
   "cell_type": "code",
   "execution_count": null,
   "id": "728a9e2d",
   "metadata": {},
   "outputs": [],
   "source": [
    "#creating Dataframe\n",
    "df=pd.DataFrame({'job_title':job_title,'job_location':job_location,'company_name':company_name,'salary_filter':salary_filter})\n",
    "df"
   ]
  },
  {
   "cell_type": "code",
   "execution_count": null,
   "id": "e0e580ce",
   "metadata": {},
   "outputs": [],
   "source": []
  },
  {
   "cell_type": "markdown",
   "id": "f61a0033",
   "metadata": {},
   "source": [
    "# Q4."
   ]
  },
  {
   "cell_type": "code",
   "execution_count": null,
   "id": "b51320d9",
   "metadata": {},
   "outputs": [],
   "source": [
    "driver=webdriver.Chrome(r\"C:\\Users\\Shreyasi  Saha\\chromedriver_win32\\chromedriver.exe\")"
   ]
  },
  {
   "cell_type": "code",
   "execution_count": null,
   "id": "1505560d",
   "metadata": {},
   "outputs": [],
   "source": [
    "#opening the website on automated browser page\n",
    "driver.get(\"https://www.flipkart.com\")"
   ]
  },
  {
   "cell_type": "code",
   "execution_count": null,
   "id": "5cd05959",
   "metadata": {},
   "outputs": [],
   "source": [
    "#cross login popup\n",
    "cross=driver.find_element(By.XPATH,\"/html/body/div[2]/div/div/button\")\n",
    "cross.click()"
   ]
  },
  {
   "cell_type": "code",
   "execution_count": null,
   "id": "c9f3d72a",
   "metadata": {},
   "outputs": [],
   "source": [
    "#input search\n",
    "search_input=driver.find_element(By.CLASS_NAME,\"_3704LK\")\n",
    "search_input.send_keys('Sunglasses')"
   ]
  },
  {
   "cell_type": "code",
   "execution_count": null,
   "id": "762c19bc",
   "metadata": {},
   "outputs": [],
   "source": [
    "#press search button\n",
    "search=driver.find_element(By.CLASS_NAME,\"L0Z3Pu\")\n",
    "search.click()"
   ]
  },
  {
   "cell_type": "code",
   "execution_count": null,
   "id": "d555a231",
   "metadata": {},
   "outputs": [],
   "source": [
    "brand_tags=[]\n",
    "price_tags=[]\n",
    "description_tags=[]"
   ]
  },
  {
   "cell_type": "code",
   "execution_count": null,
   "id": "d00b8c6b",
   "metadata": {},
   "outputs": [],
   "source": [
    "#scraping details from the page\n",
    "brand_tags=driver.find_elements(By.XPATH,'//div[@class=\"__2B099V\"]')\n",
    "for i in brand_tags[0:100]:\n",
    "    brand=(i.text)\n",
    "    brand_tags.append(brand)\n",
    "\n",
    "price_tags=driver.find_elements(By.XPATH,'//div[@class=\"_30jeq3\"]')\n",
    "for i in price_tags[0:100]:\n",
    "    price=(i.text)\n",
    "    price_tags.append(price)\n",
    "    \n",
    "description_tags=driver.find_elements(By.XPATH,'//a[@class=\"IRpwTa\"]')\n",
    "for i in description_tags[0:100]:\n",
    "    description=(i.text)\n",
    "    description_tags.append(description)"
   ]
  },
  {
   "cell_type": "code",
   "execution_count": null,
   "id": "912b6921",
   "metadata": {},
   "outputs": [],
   "source": [
    "next_button=driver.find_element(By.XPATH,'/html/body/div[1]/div/div[3]/div[1]/div[2]/div[12]/div/div/nav/a[11]/span')\n",
    "next_button.click()"
   ]
  },
  {
   "cell_type": "code",
   "execution_count": null,
   "id": "962db47d",
   "metadata": {},
   "outputs": [],
   "source": [
    "#scraping details from the page\n",
    "brand_tags=driver.find_elements(By.XPATH,'//div[@class=\"__2B099V\"]')\n",
    "for i in brand_tags[0:100]:\n",
    "    brand=(i.text)\n",
    "    brand_tags.append(brand)\n",
    "\n",
    "price_tags=driver.find_elements(By.XPATH,'//div[@class=\"_30jeq3\"]')\n",
    "for i in price_tags[0:100]:\n",
    "    price=(i.text)\n",
    "    price_tags.append(price)\n",
    "    \n",
    "description_tags=driver.find_elements(By.XPATH,'//a[@class=\"IRpwTa\"]')\n",
    "for i in description_tags[0:100]:\n",
    "    description=(i.text)\n",
    "    description_tags.append(description)"
   ]
  },
  {
   "cell_type": "code",
   "execution_count": null,
   "id": "4e419f23",
   "metadata": {},
   "outputs": [],
   "source": [
    "print(len(brand_tags),len(price_tags),len(description_tags))"
   ]
  },
  {
   "cell_type": "code",
   "execution_count": null,
   "id": "8af6b5c7",
   "metadata": {},
   "outputs": [],
   "source": [
    "df=pd.DataFrame({'brand_tags':brand_tags,'price_tags':price_tags,'description_tags':description_tags})\n",
    "df"
   ]
  },
  {
   "cell_type": "code",
   "execution_count": null,
   "id": "c0664092",
   "metadata": {},
   "outputs": [],
   "source": []
  },
  {
   "cell_type": "markdown",
   "id": "b9c0980c",
   "metadata": {},
   "source": [
    "# Q5"
   ]
  },
  {
   "cell_type": "code",
   "execution_count": null,
   "id": "2235d68a",
   "metadata": {},
   "outputs": [],
   "source": [
    "driver=webdriver.Chrome(r\"C:\\Users\\Shreyasi  Saha\\chromedriver_win32\\chromedriver.exe\")"
   ]
  },
  {
   "cell_type": "code",
   "execution_count": null,
   "id": "70ed6b48",
   "metadata": {},
   "outputs": [],
   "source": [
    "#opening the website on automated browser page\n",
    "driver.get(\"https://www.flipkart.com\")"
   ]
  },
  {
   "cell_type": "code",
   "execution_count": null,
   "id": "3e5a35d3",
   "metadata": {},
   "outputs": [],
   "source": [
    "cross=driver.find_element(By.XPATH,\"/html/body/div[2]/div/div/button\")\n",
    "cross.click()"
   ]
  },
  {
   "cell_type": "code",
   "execution_count": null,
   "id": "889af54a",
   "metadata": {},
   "outputs": [],
   "source": [
    "search_input=driver.find_element(By.CLASS_NAME,\"_3704LK\")\n",
    "search_input.send_keys('iphone 11')"
   ]
  },
  {
   "cell_type": "code",
   "execution_count": null,
   "id": "d5316998",
   "metadata": {},
   "outputs": [],
   "source": [
    "#search for the required\n",
    "search=driver.find_element(By.CLASS_NAME,\"L0Z3Pu\")\n",
    "search.click()"
   ]
  },
  {
   "cell_type": "code",
   "execution_count": null,
   "id": "16ef47f1",
   "metadata": {},
   "outputs": [],
   "source": [
    "product=driver.find_element(By.CLASS_NAME,\"_4rR01T\")\n",
    "product.click()"
   ]
  },
  {
   "cell_type": "code",
   "execution_count": null,
   "id": "e4d8e699",
   "metadata": {},
   "outputs": [],
   "source": [
    "driver.get(\"https://www.flipkart.com/apple-iphone-11-black-128-gb/product-reviews/itm8244e8d955aba?pid=MOBFWQ6BKRYBP5X8&lid=LSTMOBFWQ6BKRYBP5X8IBG6BS&marketplace=FLIPKART\")"
   ]
  },
  {
   "cell_type": "code",
   "execution_count": null,
   "id": "da3b0220",
   "metadata": {},
   "outputs": [],
   "source": [
    "rating_tags=[]\n",
    "summary_tags=[]\n",
    "review_tags=[]"
   ]
  },
  {
   "cell_type": "code",
   "execution_count": null,
   "id": "4a958ca9",
   "metadata": {},
   "outputs": [],
   "source": [
    "rating_tags=driver.find_elements(By.XPATH,'//div[@class=\"_3LWZlK _1BLPMq\"]')\n",
    "for i in rating_tags[0:100]:\n",
    "    rating=(i.text)\n",
    "    rating_tags.append(rating)\n",
    "    \n",
    "summary_tags=driver.find_elements(By.XPATH,'//p[@class=\"_2-N8zT\"]')\n",
    "for i in summary_tags[0:100]:\n",
    "    summary=i.text\n",
    "    summary_tags.append(summary)\n",
    "    \n",
    "review_tags=driver.find_elements(By.XPATH,'//div[@class=\"t-ZTKy\"]')\n",
    "for i in review_tags[0:100]:\n",
    "    review=i.text\n",
    "    review_tags.append(review)"
   ]
  },
  {
   "cell_type": "code",
   "execution_count": null,
   "id": "3ea7ad0f",
   "metadata": {},
   "outputs": [],
   "source": [
    "next_button=driver.find_element(By.XPATH,'/html/body/div/div/div[3]/div/div/div[2]/div[13]/div/div/nav/a[11]/span')\n",
    "next_button.click()"
   ]
  },
  {
   "cell_type": "code",
   "execution_count": null,
   "id": "a527d62d",
   "metadata": {},
   "outputs": [],
   "source": [
    "rating_tags=driver.find_elements(By.XPATH,'//div[@class=\"_3LWZlK _1BLPMq\"]')\n",
    "for i in rating_tags[0:100]:\n",
    "    rating=(i.text)\n",
    "    rating_tags.append(rating)\n",
    "    \n",
    "summary_tags=driver.find_elements(By.XPATH,'//p[@class=\"_2-N8zT\"]')\n",
    "for i in summary_tags[0:100]:\n",
    "    summary=i.text\n",
    "    summary_tags.append(summary)\n",
    "    \n",
    "review_tags=driver.find_elements(By.XPATH,'//div[@class=\"t-ZTKy\"]')\n",
    "for i in review_tags[0:100]:\n",
    "    review=i.text\n",
    "    review_tags.append(review)"
   ]
  },
  {
   "cell_type": "code",
   "execution_count": null,
   "id": "ee4121fc",
   "metadata": {},
   "outputs": [],
   "source": [
    "next_button=driver.find_element(By.XPATH,'/html/body/div/div/div[3]/div/div/div[2]/div[13]/div/div/nav/a[12]/span')\n",
    "next_button.click()"
   ]
  },
  {
   "cell_type": "code",
   "execution_count": null,
   "id": "994f74bc",
   "metadata": {},
   "outputs": [],
   "source": [
    "rating_tags=driver.find_elements(By.XPATH,'//div[@class=\"_3LWZlK _1BLPMq\"]')\n",
    "for i in rating_tags[0:100]:\n",
    "    rating=(i.text)\n",
    "    rating_tags.append(rating)\n",
    "    \n",
    "summary_tags=driver.find_elements(By.XPATH,'//p[@class=\"_2-N8zT\"]')\n",
    "for i in summary_tags[0:100]:\n",
    "    summary=i.text\n",
    "    summary_tags.append(summary)\n",
    "    \n",
    "review_tags=driver.find_elements(By.XPATH,'//div[@class=\"t-ZTKy\"]')\n",
    "for i in review_tags[0:100]:\n",
    "    review=i.text\n",
    "    review_tags.append(review)"
   ]
  },
  {
   "cell_type": "code",
   "execution_count": null,
   "id": "6f3f9bfc",
   "metadata": {},
   "outputs": [],
   "source": [
    "next_button=driver.find_element(By.XPATH,'/html/body/div/div/div[3]/div/div/div[2]/div[13]/div/div/nav/a[12]/span')\n",
    "next_button.click()"
   ]
  },
  {
   "cell_type": "code",
   "execution_count": null,
   "id": "d9553f7c",
   "metadata": {},
   "outputs": [],
   "source": [
    "rating_tags=driver.find_elements(By.XPATH,'//div[@class=\"_3LWZlK _1BLPMq\"]')\n",
    "for i in rating_tags[0:100]:\n",
    "    rating=(i.text)\n",
    "    rating_tags.append(rating)\n",
    "    \n",
    "summary_tags=driver.find_elements(By.XPATH,'//p[@class=\"_2-N8zT\"]')\n",
    "for i in summary_tags[0:100]:\n",
    "    summary=i.text\n",
    "    summary_tags.append(summary)\n",
    "    \n",
    "review_tags=driver.find_elements(By.XPATH,'//div[@class=\"t-ZTKy\"]')\n",
    "for i in review_tags[0:100]:\n",
    "    review=i.text\n",
    "    review_tags.append(review)"
   ]
  },
  {
   "cell_type": "code",
   "execution_count": null,
   "id": "e8bee656",
   "metadata": {},
   "outputs": [],
   "source": [
    "next_button=driver.find_element(By.XPATH,'/html/body/div/div/div[3]/div/div/div[2]/div[13]/div/div/nav/a[12]/span')\n",
    "next_button.click()"
   ]
  },
  {
   "cell_type": "code",
   "execution_count": null,
   "id": "950348d9",
   "metadata": {},
   "outputs": [],
   "source": [
    "rating_tags=driver.find_elements(By.XPATH,'//div[@class=\"_3LWZlK _1BLPMq\"]')\n",
    "for i in rating_tags[0:100]:\n",
    "    rating=(i.text)\n",
    "    rating_tags.append(rating)\n",
    "    \n",
    "summary_tags=driver.find_elements(By.XPATH,'//p[@class=\"_2-N8zT\"]')\n",
    "for i in summary_tags[0:100]:\n",
    "    summary=i.text\n",
    "    summary_tags.append(summary)\n",
    "    \n",
    "review_tags=driver.find_elements(By.XPATH,'//div[@class=\"t-ZTKy\"]')\n",
    "for i in review_tags[0:100]:\n",
    "    review=i.text\n",
    "    review_tags.append(review)"
   ]
  },
  {
   "cell_type": "code",
   "execution_count": null,
   "id": "82ea38f5",
   "metadata": {},
   "outputs": [],
   "source": [
    "next_button=driver.find_element(By.XPATH,'/html/body/div/div/div[3]/div/div/div[2]/div[13]/div/div/nav/a[12]/span')\n",
    "next_button.click()"
   ]
  },
  {
   "cell_type": "code",
   "execution_count": null,
   "id": "f5284733",
   "metadata": {},
   "outputs": [],
   "source": [
    "rating_tags=driver.find_elements(By.XPATH,'//div[@class=\"_3LWZlK _1BLPMq\"]')\n",
    "for i in rating_tags[0:100]:\n",
    "    rating=(i.text)\n",
    "    rating_tags.append(rating)\n",
    "    \n",
    "summary_tags=driver.find_elements(By.XPATH,'//p[@class=\"_2-N8zT\"]')\n",
    "for i in summary_tags[0:100]:\n",
    "    summary=i.text\n",
    "    summary_tags.append(summary)\n",
    "    \n",
    "review_tags=driver.find_elements(By.XPATH,'//div[@class=\"t-ZTKy\"]')\n",
    "for i in review_tags[0:100]:\n",
    "    review=i.text\n",
    "    review_tags.append(review)"
   ]
  },
  {
   "cell_type": "code",
   "execution_count": null,
   "id": "f3b387fd",
   "metadata": {},
   "outputs": [],
   "source": [
    "next_button=driver.find_element(By.XPATH,'/html/body/div/div/div[3]/div/div/div[2]/div[13]/div/div/nav/a[12]/span')\n",
    "next_button.click()"
   ]
  },
  {
   "cell_type": "code",
   "execution_count": null,
   "id": "12240d83",
   "metadata": {},
   "outputs": [],
   "source": [
    "rating_tags=driver.find_elements(By.XPATH,'//div[@class=\"_3LWZlK _1BLPMq\"]')\n",
    "for i in rating_tags[0:100]:\n",
    "    rating=(i.text)\n",
    "    rating_tags.append(rating)\n",
    "    \n",
    "summary_tags=driver.find_elements(By.XPATH,'//p[@class=\"_2-N8zT\"]')\n",
    "for i in summary_tags[0:100]:\n",
    "    summary=i.text\n",
    "    summary_tags.append(summary)\n",
    "    \n",
    "review_tags=driver.find_elements(By.XPATH,'//div[@class=\"t-ZTKy\"]')\n",
    "for i in review_tags[0:100]:\n",
    "    review=i.text\n",
    "    review_tags.append(review)"
   ]
  },
  {
   "cell_type": "code",
   "execution_count": null,
   "id": "0f618835",
   "metadata": {},
   "outputs": [],
   "source": [
    "next_button=driver.find_element(By.XPATH,'/html/body/div/div/div[3]/div/div/div[2]/div[13]/div/div/nav/a[12]/span')\n",
    "next_button.click()"
   ]
  },
  {
   "cell_type": "code",
   "execution_count": null,
   "id": "c75ea430",
   "metadata": {},
   "outputs": [],
   "source": [
    "rating_tags=driver.find_elements(By.XPATH,'//div[@class=\"_3LWZlK _1BLPMq\"]')\n",
    "for i in rating_tags[0:100]:\n",
    "    rating=(i.text)\n",
    "    rating_tags.append(rating)\n",
    "    \n",
    "summary_tags=driver.find_elements(By.XPATH,'//p[@class=\"_2-N8zT\"]')\n",
    "for i in summary_tags[0:100]:\n",
    "    summary=i.text\n",
    "    summary_tags.append(summary)\n",
    "    \n",
    "review_tags=driver.find_elements(By.XPATH,'//div[@class=\"t-ZTKy\"]')\n",
    "for i in review_tags[0:100]:\n",
    "    review=i.text\n",
    "    review_tags.append(review)"
   ]
  },
  {
   "cell_type": "code",
   "execution_count": null,
   "id": "878795a3",
   "metadata": {},
   "outputs": [],
   "source": [
    "next_button=driver.find_element(By.XPATH,'/html/body/div/div/div[3]/div/div/div[2]/div[13]/div/div/nav/a[12]/span')\n",
    "next_button.click()"
   ]
  },
  {
   "cell_type": "code",
   "execution_count": null,
   "id": "79a38981",
   "metadata": {},
   "outputs": [],
   "source": [
    "print(len(rating_tags),len(summary_tags),len(review_tags))"
   ]
  },
  {
   "cell_type": "code",
   "execution_count": null,
   "id": "47829bce",
   "metadata": {},
   "outputs": [],
   "source": [
    "df=pd.DataFrame({'rating_tags':rating_tags,'summary_tags':summary_tags,'review_tags':review_tags})\n",
    "df"
   ]
  },
  {
   "cell_type": "code",
   "execution_count": null,
   "id": "9f1b7c83",
   "metadata": {},
   "outputs": [],
   "source": []
  },
  {
   "cell_type": "markdown",
   "id": "23e6142d",
   "metadata": {},
   "source": [
    "# Q6"
   ]
  },
  {
   "cell_type": "code",
   "execution_count": null,
   "id": "d66eed1e",
   "metadata": {},
   "outputs": [],
   "source": [
    "driver=webdriver.Chrome(r\"C:\\Users\\Shreyasi  Saha\\chromedriver_win32\\chromedriver.exe\")"
   ]
  },
  {
   "cell_type": "code",
   "execution_count": null,
   "id": "3e2b40fb",
   "metadata": {},
   "outputs": [],
   "source": [
    "#opening the website on automated browser page\n",
    "driver.get(\"https://www.flipkart.com\")"
   ]
  },
  {
   "cell_type": "code",
   "execution_count": null,
   "id": "67473c18",
   "metadata": {},
   "outputs": [],
   "source": [
    "cross=driver.find_element(By.XPATH,\"/html/body/div[2]/div/div/button\")\n",
    "cross.click()"
   ]
  },
  {
   "cell_type": "code",
   "execution_count": null,
   "id": "b62d4f54",
   "metadata": {},
   "outputs": [],
   "source": [
    "search_input=driver.find_element(By.CLASS_NAME,\"_3704LK\")\n",
    "search_input.send_keys('sneakers')"
   ]
  },
  {
   "cell_type": "code",
   "execution_count": null,
   "id": "67cdfe4b",
   "metadata": {},
   "outputs": [],
   "source": [
    "search=driver.find_element(By.CLASS_NAME,\"L0Z3Pu\")\n",
    "search.click()"
   ]
  },
  {
   "cell_type": "code",
   "execution_count": null,
   "id": "70e82c12",
   "metadata": {},
   "outputs": [],
   "source": [
    "brand_tags=[]\n",
    "description_tags=[]\n",
    "price_tags=[]\n",
    "discount_tags=[]"
   ]
  },
  {
   "cell_type": "code",
   "execution_count": null,
   "id": "77a2dc83",
   "metadata": {},
   "outputs": [],
   "source": [
    "brand_tags=driver.find_elements(By.XPATH,'//div[@class=\"_2WkVRV\"]')\n",
    "for i in brand_tags[0:100]:\n",
    "    brand=(i.text)\n",
    "    brand_tags.append(brand)\n",
    "    \n",
    "description_tags=driver.find_elements(By.XPATH,'//a[@class=\"IRpwTa\"]')\n",
    "for i in description_tags[0:100]:\n",
    "    description=i.text\n",
    "    description_tags.append(description)\n",
    "    \n",
    "price_tags=driver.find_elements(By.XPATH,'//div[@class=\"_30jeq3\"]')\n",
    "for i in price_tags[0:100]:\n",
    "    price=i.text\n",
    "    price_tags.append(price)\n",
    "    \n",
    "discount_tags=driver.find_elements(By.XPATH,'//div[@class=\"_3Ay6Sb\"]')\n",
    "for i in discount_tags[0:100]:\n",
    "    discount=i.text\n",
    "    discount_tags.append(discount)"
   ]
  },
  {
   "cell_type": "code",
   "execution_count": null,
   "id": "f48c98e9",
   "metadata": {},
   "outputs": [],
   "source": [
    "next_button=driver.find_element(By.XPATH,'/html/body/div[1]/div/div[3]/div[1]/div[2]/div[12]/div/div/nav/a[11]/span')\n",
    "next_button.click()"
   ]
  },
  {
   "cell_type": "code",
   "execution_count": null,
   "id": "6a5df702",
   "metadata": {},
   "outputs": [],
   "source": [
    "brand_tags=driver.find_elements(By.XPATH,'//div[@class=\"_2WkVRV\"]')\n",
    "for i in brand_tags[0:100]:\n",
    "    brand=(i.text)\n",
    "    brand_tags.append(brand)\n",
    "    \n",
    "description_tags=driver.find_elements(By.XPATH,'//a[@class=\"IRpwTa\"]')\n",
    "for i in description_tags[0:100]:\n",
    "    description=i.text\n",
    "    description_tags.append(description)\n",
    "    \n",
    "price_tags=driver.find_elements(By.XPATH,'//div[@class=\"_30jeq3\"]')\n",
    "for i in price_tags[0:100]:\n",
    "    price=i.text\n",
    "    price_tags.append(price)\n",
    "    \n",
    "discount_tags=driver.find_elements(By.XPATH,'//div[@class=\"_3Ay6Sb\"]')\n",
    "for i in discount_tags[0:100]:\n",
    "    discount=i.text\n",
    "    discount_tags.append(discount)"
   ]
  },
  {
   "cell_type": "code",
   "execution_count": null,
   "id": "50b110b6",
   "metadata": {},
   "outputs": [],
   "source": [
    "next_button=driver.find_element(By.XPATH,'/html/body/div[1]/div/div[3]/div[1]/div[2]/div[12]/div/div/nav/a[12]/span')\n",
    "next_button.click()"
   ]
  },
  {
   "cell_type": "code",
   "execution_count": null,
   "id": "9a3f6adb",
   "metadata": {},
   "outputs": [],
   "source": [
    "brand_tags=driver.find_elements(By.XPATH,'//div[@class=\"_2WkVRV\"]')\n",
    "for i in brand_tags[0:100]:\n",
    "    brand=(i.text)\n",
    "    brand_tags.append(brand)\n",
    "    \n",
    "description_tags=driver.find_elements(By.XPATH,'//a[@class=\"IRpwTa\"]')\n",
    "for i in description_tags[0:100]:\n",
    "    description=i.text\n",
    "    description_tags.append(description)\n",
    "    \n",
    "price_tags=driver.find_elements(By.XPATH,'//div[@class=\"_30jeq3\"]')\n",
    "for i in price_tags[0:100]:\n",
    "    price=i.text\n",
    "    price_tags.append(price)\n",
    "    \n",
    "discount_tags=driver.find_elements(By.XPATH,'//div[@class=\"_3Ay6Sb\"]')\n",
    "for i in discount_tags[0:100]:\n",
    "    discount=i.text\n",
    "    discount_tags.append(discount)"
   ]
  },
  {
   "cell_type": "code",
   "execution_count": null,
   "id": "8242c5e0",
   "metadata": {},
   "outputs": [],
   "source": [
    "print(len(brand_tags),len(description_tags),len(description_tags))"
   ]
  },
  {
   "cell_type": "code",
   "execution_count": null,
   "id": "c11709f6",
   "metadata": {
    "scrolled": true
   },
   "outputs": [],
   "source": [
    "df=pd.DataFrame({'brand_tags':brand_tags,'description_tags':description_tags,'description_tags':description_tags,'discount_tags':discount_tags})\n",
    "df"
   ]
  },
  {
   "cell_type": "code",
   "execution_count": null,
   "id": "d6b1e757",
   "metadata": {},
   "outputs": [],
   "source": []
  },
  {
   "cell_type": "markdown",
   "id": "d2198f79",
   "metadata": {},
   "source": [
    "# Q7."
   ]
  },
  {
   "cell_type": "code",
   "execution_count": null,
   "id": "f99d4605",
   "metadata": {},
   "outputs": [],
   "source": [
    "driver=webdriver.Chrome(r\"C:\\Users\\Shreyasi  Saha\\chromedriver_win32\\chromedriver.exe\")"
   ]
  },
  {
   "cell_type": "code",
   "execution_count": null,
   "id": "665d95b6",
   "metadata": {},
   "outputs": [],
   "source": [
    "#opening the website on automated browser page\n",
    "driver.get(\"https://www.myntra.com/shoes\")"
   ]
  },
  {
   "cell_type": "code",
   "execution_count": null,
   "id": "024e0729",
   "metadata": {},
   "outputs": [],
   "source": [
    "filter1=driver.find_element(By.XPATH,\"/html/body/div[2]/div/div[1]/main/div[3]/div[1]/section/div/div[6]/ul/li[1]/label/div\")\n",
    "filter1.click()"
   ]
  },
  {
   "cell_type": "code",
   "execution_count": null,
   "id": "338b9726",
   "metadata": {},
   "outputs": [],
   "source": [
    "filter1=driver.find_element(By.XPATH,\"/html/body/div[2]/div/div[1]/main/div[3]/div[1]/section/div/div[5]/ul/li[2]/label/div\")\n",
    "filter1.click()"
   ]
  },
  {
   "cell_type": "code",
   "execution_count": null,
   "id": "52dc5496",
   "metadata": {},
   "outputs": [],
   "source": [
    "brand_tags=[]\n",
    "price_tags=[]\n",
    "description_tags=[]\n",
    "discount_tags=[]"
   ]
  },
  {
   "cell_type": "code",
   "execution_count": null,
   "id": "fbfa9f15",
   "metadata": {},
   "outputs": [],
   "source": [
    "brand_tags=driver.find_elements(By.XPATH,'//h3[@class=\"product-brand\"]')\n",
    "for i in brand_tags[0:100]:\n",
    "    brand=(i.text)\n",
    "    brand_tags.append(brand)\n",
    "    \n",
    "    \n",
    "description_tags=driver.find_elements(By.XPATH,'//h4[@class=\"product-product\"]')\n",
    "for i in description_tags[0:100]:\n",
    "    description=i.text\n",
    "    description_tags.append(description)"
   ]
  },
  {
   "cell_type": "code",
   "execution_count": null,
   "id": "94a1e921",
   "metadata": {},
   "outputs": [],
   "source": [
    "print(len(brand_tags),len(description_tags))"
   ]
  },
  {
   "cell_type": "code",
   "execution_count": null,
   "id": "36265c40",
   "metadata": {},
   "outputs": [],
   "source": [
    "df1=pd.DataFrame({'brand_tags':brand_tags,'description_tags':description_tags})\n",
    "df1"
   ]
  },
  {
   "cell_type": "code",
   "execution_count": null,
   "id": "031bafe1",
   "metadata": {},
   "outputs": [],
   "source": [
    "price_tags=driver.find_elements(By.XPATH,'//span[@class=\"product-discountedPrice\"]')\n",
    "for i in price_tags[0:100]:\n",
    "    price=i.text\n",
    "    price_tags.append(price)\n",
    "    \n",
    "discount_tags=driver.find_elements(By.XPATH,'//span[@class=\"product-discountPercentage\"]')\n",
    "for i in discount_tags[0:100]:\n",
    "    discount=i.text\n",
    "    discount_tags.append(discount)"
   ]
  },
  {
   "cell_type": "code",
   "execution_count": null,
   "id": "57ae67bf",
   "metadata": {},
   "outputs": [],
   "source": [
    "print(len(price_tags),len(discount_tags))"
   ]
  },
  {
   "cell_type": "code",
   "execution_count": null,
   "id": "2105116d",
   "metadata": {
    "scrolled": true
   },
   "outputs": [],
   "source": [
    "df2=pd.DataFrame({'price_tags':price_tags,'discount_tags':discount_tags})\n",
    "df2"
   ]
  },
  {
   "cell_type": "markdown",
   "id": "ca35011e",
   "metadata": {},
   "source": [
    "# Q8"
   ]
  },
  {
   "cell_type": "code",
   "execution_count": null,
   "id": "d540c914",
   "metadata": {},
   "outputs": [],
   "source": [
    "driver=webdriver.Chrome(r\"C:\\Users\\Shreyasi  Saha\\chromedriver_win32\\chromedriver.exe\")"
   ]
  },
  {
   "cell_type": "code",
   "execution_count": null,
   "id": "ce09dda7",
   "metadata": {},
   "outputs": [],
   "source": [
    "driver.get(\"https://www.amazon.in/\")"
   ]
  },
  {
   "cell_type": "code",
   "execution_count": null,
   "id": "6fb9708b",
   "metadata": {},
   "outputs": [],
   "source": [
    "search_input=driver.find_element(By.XPATH,'//input[@id=\"twotabsearchtextbox\"]')\n",
    "search_input.send_keys('Laptop')"
   ]
  },
  {
   "cell_type": "code",
   "execution_count": null,
   "id": "204c1156",
   "metadata": {},
   "outputs": [],
   "source": [
    "search_input=driver.find_element(By.XPATH,'//input[@id=\"nav-search-submit-button\"]')\n",
    "search_input.click()"
   ]
  },
  {
   "cell_type": "code",
   "execution_count": null,
   "id": "e4848e81",
   "metadata": {},
   "outputs": [],
   "source": [
    "filter1=driver.find_element(By.XPATH,'/html/body/div[1]/div[2]/div[1]/div[2]/div/div[3]/span/div[1]/div/div/div[6]/ul[5]/li[13]/span/a/div/label/i')\n",
    "filter1.click()"
   ]
  },
  {
   "cell_type": "code",
   "execution_count": null,
   "id": "91a2e127",
   "metadata": {},
   "outputs": [],
   "source": [
    "title_tags=[]\n",
    "rating_tags=[]\n",
    "price_tags=[]"
   ]
  },
  {
   "cell_type": "code",
   "execution_count": null,
   "id": "e275664b",
   "metadata": {},
   "outputs": [],
   "source": [
    "title_tags=driver.find_elements(By.XPATH,'//h2[@class=\"a-size-mini a-spacing-none a-color-base s-line-clamp-2\"]')\n",
    "for i in title_tags[0:10]:\n",
    "    title=(i.text)\n",
    "    title_tags.append(title)\n",
    "\n",
    "rating_tags=driver.find_elements(By.XPATH,'//span[@class=\"a-size-base s-underline-text\"]')\n",
    "for i in rating_tags[0:10]:\n",
    "    rating=(i.text)\n",
    "    rating_tags.append(rating)\n",
    "    \n",
    "price_tags=driver.find_elements(By.XPATH,'//span[@class=\"a-price-whole\"]')\n",
    "for i in price_tags[0:10]:\n",
    "    price=(i.text)\n",
    "    price_tags.append(price)"
   ]
  },
  {
   "cell_type": "code",
   "execution_count": null,
   "id": "19946acb",
   "metadata": {},
   "outputs": [],
   "source": [
    "print(len(title_tags),len(price_tags),len(rating_tags))"
   ]
  },
  {
   "cell_type": "code",
   "execution_count": null,
   "id": "7231a2ab",
   "metadata": {},
   "outputs": [],
   "source": [
    "df=pd.DataFrame({'title_tags':title_tags,'price_tags':price_tags,'rating_tags':rating_tags})\n",
    "df"
   ]
  },
  {
   "cell_type": "code",
   "execution_count": null,
   "id": "90111a27",
   "metadata": {},
   "outputs": [],
   "source": []
  },
  {
   "cell_type": "code",
   "execution_count": null,
   "id": "f3fe6157",
   "metadata": {},
   "outputs": [],
   "source": []
  },
  {
   "cell_type": "code",
   "execution_count": null,
   "id": "092b2d12",
   "metadata": {},
   "outputs": [],
   "source": []
  },
  {
   "cell_type": "code",
   "execution_count": null,
   "id": "fc1189bc",
   "metadata": {},
   "outputs": [],
   "source": []
  },
  {
   "cell_type": "code",
   "execution_count": null,
   "id": "b1c7bfa4",
   "metadata": {},
   "outputs": [],
   "source": []
  },
  {
   "cell_type": "code",
   "execution_count": null,
   "id": "96eb53f1",
   "metadata": {},
   "outputs": [],
   "source": []
  },
  {
   "cell_type": "code",
   "execution_count": null,
   "id": "1d23bfa0",
   "metadata": {},
   "outputs": [],
   "source": []
  },
  {
   "cell_type": "code",
   "execution_count": null,
   "id": "b9e7e8db",
   "metadata": {},
   "outputs": [],
   "source": []
  },
  {
   "cell_type": "code",
   "execution_count": null,
   "id": "a77130ef",
   "metadata": {},
   "outputs": [],
   "source": []
  },
  {
   "cell_type": "code",
   "execution_count": null,
   "id": "e41cd4c9",
   "metadata": {},
   "outputs": [],
   "source": []
  },
  {
   "cell_type": "code",
   "execution_count": null,
   "id": "cbe3e265",
   "metadata": {},
   "outputs": [],
   "source": []
  },
  {
   "cell_type": "code",
   "execution_count": null,
   "id": "00c13fbe",
   "metadata": {},
   "outputs": [],
   "source": []
  },
  {
   "cell_type": "code",
   "execution_count": null,
   "id": "efae7416",
   "metadata": {},
   "outputs": [],
   "source": []
  },
  {
   "cell_type": "code",
   "execution_count": null,
   "id": "454c352a",
   "metadata": {},
   "outputs": [],
   "source": []
  },
  {
   "cell_type": "code",
   "execution_count": null,
   "id": "4157cc8b",
   "metadata": {},
   "outputs": [],
   "source": []
  },
  {
   "cell_type": "code",
   "execution_count": null,
   "id": "af5d477a",
   "metadata": {},
   "outputs": [],
   "source": []
  },
  {
   "cell_type": "code",
   "execution_count": null,
   "id": "a09d0833",
   "metadata": {},
   "outputs": [],
   "source": []
  },
  {
   "cell_type": "code",
   "execution_count": null,
   "id": "36d8b27c",
   "metadata": {},
   "outputs": [],
   "source": []
  },
  {
   "cell_type": "code",
   "execution_count": null,
   "id": "67e30787",
   "metadata": {},
   "outputs": [],
   "source": []
  },
  {
   "cell_type": "code",
   "execution_count": null,
   "id": "c1d80f3c",
   "metadata": {},
   "outputs": [],
   "source": []
  },
  {
   "cell_type": "code",
   "execution_count": null,
   "id": "b9d3e104",
   "metadata": {},
   "outputs": [],
   "source": []
  },
  {
   "cell_type": "code",
   "execution_count": null,
   "id": "11a98c51",
   "metadata": {},
   "outputs": [],
   "source": []
  },
  {
   "cell_type": "code",
   "execution_count": null,
   "id": "b10d8d21",
   "metadata": {},
   "outputs": [],
   "source": []
  },
  {
   "cell_type": "code",
   "execution_count": null,
   "id": "df03e85b",
   "metadata": {},
   "outputs": [],
   "source": []
  },
  {
   "cell_type": "code",
   "execution_count": null,
   "id": "fc4fb644",
   "metadata": {},
   "outputs": [],
   "source": []
  },
  {
   "cell_type": "code",
   "execution_count": null,
   "id": "e401a6ab",
   "metadata": {},
   "outputs": [],
   "source": []
  },
  {
   "cell_type": "code",
   "execution_count": null,
   "id": "8cd5f340",
   "metadata": {},
   "outputs": [],
   "source": []
  },
  {
   "cell_type": "code",
   "execution_count": null,
   "id": "3564c1ec",
   "metadata": {},
   "outputs": [],
   "source": []
  },
  {
   "cell_type": "code",
   "execution_count": null,
   "id": "813c10bd",
   "metadata": {},
   "outputs": [],
   "source": []
  },
  {
   "cell_type": "code",
   "execution_count": null,
   "id": "80af792b",
   "metadata": {},
   "outputs": [],
   "source": []
  },
  {
   "cell_type": "code",
   "execution_count": null,
   "id": "b84003f4",
   "metadata": {},
   "outputs": [],
   "source": []
  },
  {
   "cell_type": "code",
   "execution_count": null,
   "id": "d39b39ad",
   "metadata": {},
   "outputs": [],
   "source": []
  },
  {
   "cell_type": "code",
   "execution_count": null,
   "id": "5c2efafb",
   "metadata": {},
   "outputs": [],
   "source": []
  },
  {
   "cell_type": "code",
   "execution_count": null,
   "id": "abb77437",
   "metadata": {},
   "outputs": [],
   "source": []
  },
  {
   "cell_type": "code",
   "execution_count": null,
   "id": "fd1bf686",
   "metadata": {},
   "outputs": [],
   "source": []
  },
  {
   "cell_type": "code",
   "execution_count": null,
   "id": "e7ee0b9e",
   "metadata": {},
   "outputs": [],
   "source": []
  },
  {
   "cell_type": "code",
   "execution_count": null,
   "id": "2c51eb31",
   "metadata": {},
   "outputs": [],
   "source": []
  },
  {
   "cell_type": "code",
   "execution_count": null,
   "id": "847e336a",
   "metadata": {},
   "outputs": [],
   "source": []
  },
  {
   "cell_type": "code",
   "execution_count": null,
   "id": "d07a6f9b",
   "metadata": {},
   "outputs": [],
   "source": []
  },
  {
   "cell_type": "code",
   "execution_count": null,
   "id": "9a64052b",
   "metadata": {},
   "outputs": [],
   "source": []
  },
  {
   "cell_type": "code",
   "execution_count": null,
   "id": "22544577",
   "metadata": {},
   "outputs": [],
   "source": []
  },
  {
   "cell_type": "code",
   "execution_count": null,
   "id": "7dddb16f",
   "metadata": {},
   "outputs": [],
   "source": []
  },
  {
   "cell_type": "code",
   "execution_count": null,
   "id": "20097440",
   "metadata": {},
   "outputs": [],
   "source": []
  },
  {
   "cell_type": "code",
   "execution_count": null,
   "id": "6e05fbd8",
   "metadata": {},
   "outputs": [],
   "source": []
  },
  {
   "cell_type": "code",
   "execution_count": null,
   "id": "eaedd898",
   "metadata": {},
   "outputs": [],
   "source": []
  },
  {
   "cell_type": "code",
   "execution_count": null,
   "id": "0799fb83",
   "metadata": {},
   "outputs": [],
   "source": []
  },
  {
   "cell_type": "code",
   "execution_count": null,
   "id": "acd7803a",
   "metadata": {},
   "outputs": [],
   "source": []
  },
  {
   "cell_type": "code",
   "execution_count": null,
   "id": "88bc9275",
   "metadata": {},
   "outputs": [],
   "source": []
  },
  {
   "cell_type": "code",
   "execution_count": null,
   "id": "3d611fb3",
   "metadata": {},
   "outputs": [],
   "source": []
  },
  {
   "cell_type": "code",
   "execution_count": null,
   "id": "5cee1e70",
   "metadata": {},
   "outputs": [],
   "source": []
  },
  {
   "cell_type": "code",
   "execution_count": null,
   "id": "859ce133",
   "metadata": {},
   "outputs": [],
   "source": []
  },
  {
   "cell_type": "code",
   "execution_count": null,
   "id": "597cb905",
   "metadata": {},
   "outputs": [],
   "source": []
  },
  {
   "cell_type": "code",
   "execution_count": null,
   "id": "6cc9bf12",
   "metadata": {},
   "outputs": [],
   "source": []
  },
  {
   "cell_type": "code",
   "execution_count": null,
   "id": "8255464b",
   "metadata": {},
   "outputs": [],
   "source": []
  },
  {
   "cell_type": "code",
   "execution_count": null,
   "id": "1dfef201",
   "metadata": {},
   "outputs": [],
   "source": []
  }
 ],
 "metadata": {
  "kernelspec": {
   "display_name": "Python 3 (ipykernel)",
   "language": "python",
   "name": "python3"
  },
  "language_info": {
   "codemirror_mode": {
    "name": "ipython",
    "version": 3
   },
   "file_extension": ".py",
   "mimetype": "text/x-python",
   "name": "python",
   "nbconvert_exporter": "python",
   "pygments_lexer": "ipython3",
   "version": "3.9.7"
  }
 },
 "nbformat": 4,
 "nbformat_minor": 5
}
