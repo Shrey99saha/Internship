{
 "cells": [
  {
   "cell_type": "code",
   "execution_count": null,
   "id": "d1815fe1",
   "metadata": {
    "scrolled": true
   },
   "outputs": [],
   "source": [
    "number = int(input(\"Enter a number: \"))    \n",
    "factorial = 1    \n",
    "if number < 0:    \n",
    "   print(\" Factorial Does not Exist\")    \n",
    "elif number == 0:    \n",
    "   print(\"The factorial of number 0 is 1\")    \n",
    "else:    \n",
    "   for i in range(1,number + 1):    \n",
    "       factorial = factorial*i    \n",
    "   print(\"The factorial of\",number,\"is\",factorial)"
   ]
  },
  {
   "cell_type": "code",
   "execution_count": null,
   "id": "51f751d3",
   "metadata": {},
   "outputs": [],
   "source": [
    "number = int(input(\"Enter The Number\"))\n",
    "\n",
    "if number > 1:\n",
    "    for i in range(2,int(number/2)+1):\n",
    "        if (number % i == 0):\n",
    "            print(number, \"is not a Prime Number\")\n",
    "            break\n",
    "    else:\n",
    "        print(number,\"is a Prime number\")\n",
    "\n",
    "else:\n",
    "    print(number,\"is not a Prime number\")"
   ]
  },
  {
   "cell_type": "code",
   "execution_count": null,
   "id": "671bd7ea",
   "metadata": {},
   "outputs": [],
   "source": [
    "string=input(\"Enter string: \")\n",
    "if(string==string[::-1]):\n",
    "      print(\"The string is a palindrome\")\n",
    "else:\n",
    "      print(\"The string is Not a palindrome\")"
   ]
  },
  {
   "cell_type": "code",
   "execution_count": null,
   "id": "ab74a89c",
   "metadata": {},
   "outputs": [],
   "source": [
    "import math\n",
    "\n",
    "a = float(input(\"Enter base: \"))\n",
    "b = float(input(\"Enter height: \"))\n",
    "\n",
    "c = math.sqrt(a ** 2 + b ** 2)\n",
    "\n",
    "print(\"Third Side =\", c)"
   ]
  },
  {
   "cell_type": "code",
   "execution_count": null,
   "id": "1e3abb75",
   "metadata": {},
   "outputs": [],
   "source": [
    "string = input(\"Enter any String: \")\n",
    "frequency = {}\n",
    "\n",
    "for i in string:\n",
    "    if i in frequency:\n",
    "        frequency[i] += 1\n",
    "    else:\n",
    "        frequency[i] = 1\n",
    "\n",
    "print (\"Count of all characters in\" ,string ,\"is :\\n \"+ str(frequency))"
   ]
  }
 ],
 "metadata": {
  "kernelspec": {
   "display_name": "Python 3 (ipykernel)",
   "language": "python",
   "name": "python3"
  },
  "language_info": {
   "codemirror_mode": {
    "name": "ipython",
    "version": 3
   },
   "file_extension": ".py",
   "mimetype": "text/x-python",
   "name": "python",
   "nbconvert_exporter": "python",
   "pygments_lexer": "ipython3",
   "version": "3.9.7"
  }
 },
 "nbformat": 4,
 "nbformat_minor": 5
}
